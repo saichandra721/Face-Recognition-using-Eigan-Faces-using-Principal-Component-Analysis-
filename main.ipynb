{
 "cells": [
  {
   "cell_type": "code",
   "execution_count": 3,
   "metadata": {
    "collapsed": false
   },
   "outputs": [
    {
     "ename": "NameError",
     "evalue": "name 'lst' is not defined",
     "output_type": "error",
     "traceback": [
      "\u001b[0;31m---------------------------------------------------------------------------\u001b[0m",
      "\u001b[0;31mNameError\u001b[0m                                 Traceback (most recent call last)",
      "\u001b[0;32m<ipython-input-3-14738c2f0408>\u001b[0m in \u001b[0;36m<module>\u001b[0;34m()\u001b[0m\n\u001b[1;32m      1\u001b[0m \u001b[1;31m#TO RENAME\u001b[0m\u001b[1;33m\u001b[0m\u001b[1;33m\u001b[0m\u001b[0m\n\u001b[0;32m----> 2\u001b[0;31m \u001b[1;32mfor\u001b[0m \u001b[0mfiles\u001b[0m \u001b[1;32min\u001b[0m \u001b[0mlst\u001b[0m\u001b[1;33m:\u001b[0m\u001b[1;33m\u001b[0m\u001b[0m\n\u001b[0m\u001b[1;32m      3\u001b[0m   \u001b[0mdst\u001b[0m \u001b[1;33m=\u001b[0m \u001b[0mfiles\u001b[0m\u001b[1;33m.\u001b[0m\u001b[0msplit\u001b[0m\u001b[1;33m(\u001b[0m\u001b[1;34m'.'\u001b[0m\u001b[1;33m)\u001b[0m\u001b[1;33m[\u001b[0m\u001b[1;36m0\u001b[0m\u001b[1;33m]\u001b[0m \u001b[1;33m+\u001b[0m \u001b[0mfiles\u001b[0m\u001b[1;33m.\u001b[0m\u001b[0msplit\u001b[0m\u001b[1;33m(\u001b[0m\u001b[1;34m'.'\u001b[0m\u001b[1;33m)\u001b[0m\u001b[1;33m[\u001b[0m\u001b[1;36m1\u001b[0m\u001b[1;33m]\u001b[0m \u001b[1;33m+\u001b[0m\u001b[1;34m\".png\"\u001b[0m\u001b[1;33m\u001b[0m\u001b[0m\n\u001b[1;32m      4\u001b[0m   \u001b[0msrc\u001b[0m \u001b[1;33m=\u001b[0m \u001b[0mdata\u001b[0m \u001b[1;33m+\u001b[0m \u001b[0mfiles\u001b[0m\u001b[1;33m\u001b[0m\u001b[0m\n\u001b[1;32m      5\u001b[0m   \u001b[0mdst\u001b[0m \u001b[1;33m=\u001b[0m \u001b[0mdata\u001b[0m \u001b[1;33m+\u001b[0m \u001b[0mdst\u001b[0m\u001b[1;33m\u001b[0m\u001b[0m\n",
      "\u001b[0;31mNameError\u001b[0m: name 'lst' is not defined"
     ]
    }
   ],
   "source": [
    "#TO RENAME\n",
    "# for files in lst:\n",
    "#   dst = files.split('.')[0] + files.split('.')[1] +\".png\"\n",
    "#   src = data + files\n",
    "#   dst = data + dst\n",
    "#   os.rename(src,dst)"
   ]
  },
  {
   "cell_type": "code",
   "execution_count": 71,
   "metadata": {
    "collapsed": false
   },
   "outputs": [],
   "source": [
    "import numpy as np\n",
    "import cv2\n",
    "import os\n",
    "import matplotlib.pyplot as plt\n",
    "import matplotlib.image as mpimg\n",
    "from PIL import Image\n",
    "from numpy import linalg"
   ]
  },
  {
   "cell_type": "code",
   "execution_count": 9,
   "metadata": {
    "collapsed": false
   },
   "outputs": [
    {
     "name": "stdout",
     "output_type": "stream",
     "text": [
      "C:\\Users\\saich\\Desktop\n"
     ]
    }
   ],
   "source": [
    "%cd C:\\Users\\saich\\Desktop\\"
   ]
  },
  {
   "cell_type": "code",
   "execution_count": 10,
   "metadata": {
    "collapsed": false
   },
   "outputs": [],
   "source": [
    "data = \"C:\\\\Users\\\\saich\\\\Desktop\\\\YaleFaceDatabase\\\\\"\n",
    "lst = np.array(os.listdir(data))"
   ]
  },
  {
   "cell_type": "code",
   "execution_count": 24,
   "metadata": {
    "collapsed": false
   },
   "outputs": [],
   "source": [
    "images=[]\n",
    "for i in lst:\n",
    "    img=Image.open('YaleFaceDatabase/'+i).convert('L')\n",
    "    img=np.array(img,'uint8')\n",
    "    img = img.flatten()\n",
    "    img=list(img)\n",
    "    images.append(img)\n",
    "images = np.array(images)"
   ]
  },
  {
   "cell_type": "code",
   "execution_count": 26,
   "metadata": {
    "collapsed": false
   },
   "outputs": [
    {
     "name": "stdout",
     "output_type": "stream",
     "text": [
      "(165, 77760)\n"
     ]
    }
   ],
   "source": [
    "print(images.shape)"
   ]
  },
  {
   "cell_type": "code",
   "execution_count": 208,
   "metadata": {
    "collapsed": false
   },
   "outputs": [],
   "source": [
    "cv2.imshow('image',testing)\n",
    "cv2.waitKey(0)\n",
    "cv2.destroyAllWindows()"
   ]
  },
  {
   "cell_type": "code",
   "execution_count": 163,
   "metadata": {
    "collapsed": false
   },
   "outputs": [],
   "source": [
    "train_img = []\n",
    "test_img=[]\n",
    "for i in range(len(images)):\n",
    "    if i%11<=2:\n",
    "        test_img.append(images[i,:])\n",
    "    else:\n",
    "        train_img.append(images[i,:])\n",
    "    i = i +1\n",
    "test_img = np.array(test_img)\n",
    "train_img = np.array(train_img)\n",
    "\n",
    "#print(img2)\n",
    "#img = np.divide(img,165)"
   ]
  },
  {
   "cell_type": "code",
   "execution_count": 164,
   "metadata": {
    "collapsed": false
   },
   "outputs": [
    {
     "name": "stdout",
     "output_type": "stream",
     "text": [
      "120\n"
     ]
    }
   ],
   "source": [
    "print(train_img.shape[0])"
   ]
  },
  {
   "cell_type": "code",
   "execution_count": 165,
   "metadata": {
    "collapsed": false
   },
   "outputs": [],
   "source": [
    "avgimg = train_img.mean(axis = 0)\n",
    "phi_transpose = np.subtract(train_img,avgimg)\n",
    "phi = phi_transpose.transpose()\n",
    "C = np.matmul(phi_transpose,phi)"
   ]
  },
  {
   "cell_type": "code",
   "execution_count": 166,
   "metadata": {
    "collapsed": false
   },
   "outputs": [
    {
     "name": "stdout",
     "output_type": "stream",
     "text": [
      "(120, 120)\n",
      "[ -4.74833174e-07  -3.02086489e-08  -9.94220161e-09  -2.08962066e-09\n",
      "   1.06336441e-09   5.22827888e-09   1.15349813e-08   2.08577431e-08\n",
      "   3.14166854e-08   1.32265317e+06   1.67318615e+06   3.29363355e+06\n",
      "   3.36941179e+06   5.65970877e+06   5.76067146e+06   6.16448566e+06\n",
      "   6.41305441e+06   7.29819750e+06   8.84073420e+06   9.44152116e+06\n",
      "   9.92463782e+06   1.09120995e+07   1.14830043e+07   1.19692195e+07\n",
      "   1.23260173e+07   1.30595162e+07   1.41914724e+07   1.52012271e+07\n",
      "   1.59105674e+07   1.67505171e+07   1.74492157e+07   1.80035757e+07\n",
      "   1.84682575e+07   1.90222038e+07   1.96320765e+07   2.02188954e+07\n",
      "   2.07882385e+07   2.15608793e+07   2.18584464e+07   2.29735768e+07\n",
      "   2.30655055e+07   2.41443825e+07   2.50382796e+07   2.59701730e+07\n",
      "   2.64321033e+07   2.70245014e+07   2.71612806e+07   2.81280763e+07\n",
      "   2.92820768e+07   2.98511566e+07   3.05857207e+07   3.12834227e+07\n",
      "   3.25437794e+07   3.30311740e+07   3.38020043e+07   3.48653155e+07\n",
      "   3.62015637e+07   3.78576500e+07   3.89056231e+07   3.94601351e+07\n",
      "   4.05153745e+07   4.10760944e+07   4.45783649e+07   4.55152959e+07\n",
      "   4.63083268e+07   4.70482503e+07   4.97442981e+07   5.24674146e+07\n",
      "   5.33605708e+07   5.52789933e+07   5.89201284e+07   5.99048011e+07\n",
      "   6.19581759e+07   6.27838695e+07   6.46004162e+07   6.67656611e+07\n",
      "   6.95692060e+07   7.01307314e+07   7.58676015e+07   7.63011005e+07\n",
      "   7.70847751e+07   8.20446289e+07   8.58412697e+07   8.76391919e+07\n",
      "   8.89503821e+07   9.84901454e+07   1.00480798e+08   1.06374531e+08\n",
      "   1.16470982e+08   1.17865503e+08   1.24905666e+08   1.25699760e+08\n",
      "   1.42229775e+08   1.44030110e+08   1.55063154e+08   1.60614232e+08\n",
      "   1.78498827e+08   1.90338891e+08   1.98623589e+08   2.26105406e+08\n",
      "   2.40027998e+08   2.69234730e+08   2.89176856e+08   3.10393161e+08\n",
      "   3.41031970e+08   3.83256725e+08   4.07115467e+08   4.22499299e+08\n",
      "   5.14708363e+08   5.87494251e+08   7.93418104e+08   9.43749075e+08\n",
      "   9.84878592e+08   1.17444909e+09   1.63783348e+09   1.97154432e+09\n",
      "   3.53331718e+09   3.79330661e+09   6.60635940e+09   1.37640465e+10]\n",
      "[[  9.12870929e-02   0.00000000e+00   0.00000000e+00 ...,  -5.02511155e-02\n",
      "    1.46890263e-01  -1.51137765e-01]\n",
      " [  9.12870929e-02  -3.37923186e-16   6.03916159e-17 ...,   1.58451182e-01\n",
      "   -4.01008847e-02  -6.32847030e-02]\n",
      " [  9.12870929e-02   6.49916166e-16  -1.20221591e-15 ...,   7.36926161e-02\n",
      "   -7.17678210e-02  -3.11597332e-02]\n",
      " ..., \n",
      " [  9.12870929e-02   8.17054757e-16   4.94396191e-17 ...,  -6.87290385e-02\n",
      "   -7.87623754e-02   3.39659634e-02]\n",
      " [  9.12870929e-02   1.90819582e-16  -1.05818132e-16 ...,  -8.48793923e-02\n",
      "   -7.22098596e-02   3.07968779e-02]\n",
      " [  9.12870929e-02  -6.85215773e-17   4.70760583e-16 ...,  -3.54451420e-02\n",
      "   -7.78227772e-02  -1.80198100e-02]]\n"
     ]
    }
   ],
   "source": [
    "print(C.shape)\n",
    "eigval,eigvec = linalg.eigh(C)\n",
    "print(eigval)\n",
    "print(eigvec)"
   ]
  },
  {
   "cell_type": "code",
   "execution_count": 167,
   "metadata": {
    "collapsed": false
   },
   "outputs": [
    {
     "name": "stdout",
     "output_type": "stream",
     "text": [
      "43723462276.2\n",
      "78\n"
     ]
    }
   ],
   "source": [
    "real_eigval = []\n",
    "eigval_sum = eigval.sum()\n",
    "print(eigval_sum)\n",
    "findk = 0\n",
    "eigval_rev = eigval[::-1]\n",
    "eigvec_rev = eigvec[::-1]\n",
    "for i in range(105):\n",
    "    findk = (eigval_rev[i])/eigval_sum + findk\n",
    "    if findk>=0.99:\n",
    "        k = i\n",
    "        break\n",
    "print(k)"
   ]
  },
  {
   "cell_type": "code",
   "execution_count": 168,
   "metadata": {
    "collapsed": false
   },
   "outputs": [
    {
     "name": "stdout",
     "output_type": "stream",
     "text": [
      "<class 'numpy.ndarray'>\n",
      "jgaijrdjn\n",
      "[[-32.53093316  -6.42624593   7.75687075 ...,   7.35669946  -4.32895557\n",
      "   -6.75287647]\n",
      " [-39.44551767  -9.69444561   5.51814264 ...,  -0.6140019   -5.49271326\n",
      "   -7.25046958]\n",
      " [-45.13866128 -13.48315176   1.35507352 ...,  -4.29575569  -7.00127693\n",
      "   -6.70757966]\n",
      " ..., \n",
      " [  0.           0.           0.         ...,   0.           0.           0.        ]\n",
      " [  0.           0.           0.         ...,   0.           0.           0.        ]\n",
      " [  0.           0.           0.         ...,   0.           0.           0.        ]]\n"
     ]
    }
   ],
   "source": [
    "k_eigvec = eigvec_rev[:k,:]\n",
    "print(type(k_eigvec))\n",
    "print(\"jgaijrdjn\")\n",
    "real_eigvec_beforenorm = np.dot(phi,k_eigvec.transpose())\n",
    "print(real_eigvec_beforenorm)\n",
    "\n",
    "# real_eigvec_norm = linalg.norm(real_eigvec_beforenorm,axis = 1)\n",
    "# real_eigvec_norm = np.reshape(real_eigvec_norm,(77760,1))\n",
    "# real_eigvec = np.divide(real_eigvec_beforenorm,real_eigvec_norm)"
   ]
  },
  {
   "cell_type": "code",
   "execution_count": 153,
   "metadata": {
    "collapsed": false
   },
   "outputs": [
    {
     "name": "stdout",
     "output_type": "stream",
     "text": [
      "873\n",
      "1193\n",
      "1512\n",
      "1513\n",
      "1520\n",
      "1822\n",
      "1833\n",
      "1840\n",
      "2067\n",
      "2177\n",
      "2479\n",
      "2506\n",
      "2795\n",
      "3115\n",
      "3439\n",
      "3470\n",
      "4399\n",
      "4421\n",
      "5396\n",
      "5397\n",
      "5716\n",
      "5717\n",
      "7301\n",
      "8580\n",
      "10175\n",
      "11779\n",
      "14673\n",
      "77440\n",
      "77441\n",
      "77442\n",
      "77443\n",
      "77444\n",
      "77445\n",
      "77446\n",
      "77447\n",
      "77448\n",
      "77449\n",
      "77450\n",
      "77451\n",
      "77452\n",
      "77453\n",
      "77454\n",
      "77455\n",
      "77456\n",
      "77457\n",
      "77458\n",
      "77459\n",
      "77460\n",
      "77461\n",
      "77462\n",
      "77463\n",
      "77464\n",
      "77465\n",
      "77466\n",
      "77467\n",
      "77468\n",
      "77469\n",
      "77470\n",
      "77471\n",
      "77472\n",
      "77473\n",
      "77474\n",
      "77475\n",
      "77476\n",
      "77477\n",
      "77478\n",
      "77479\n",
      "77480\n",
      "77481\n",
      "77482\n",
      "77483\n",
      "77484\n",
      "77485\n",
      "77486\n",
      "77487\n",
      "77488\n",
      "77489\n",
      "77490\n",
      "77491\n",
      "77492\n",
      "77493\n",
      "77494\n",
      "77495\n",
      "77496\n",
      "77497\n",
      "77498\n",
      "77499\n",
      "77500\n",
      "77501\n",
      "77502\n",
      "77503\n",
      "77504\n",
      "77505\n",
      "77506\n",
      "77507\n",
      "77508\n",
      "77509\n",
      "77510\n",
      "77511\n",
      "77512\n",
      "77513\n",
      "77514\n",
      "77515\n",
      "77516\n",
      "77517\n",
      "77518\n",
      "77519\n",
      "77520\n",
      "77521\n",
      "77522\n",
      "77523\n",
      "77524\n",
      "77525\n",
      "77526\n",
      "77527\n",
      "77528\n",
      "77529\n",
      "77530\n",
      "77531\n",
      "77532\n",
      "77533\n",
      "77534\n",
      "77535\n",
      "77536\n",
      "77537\n",
      "77538\n",
      "77539\n",
      "77540\n",
      "77541\n",
      "77542\n",
      "77543\n",
      "77544\n",
      "77545\n",
      "77546\n",
      "77547\n",
      "77548\n",
      "77549\n",
      "77550\n",
      "77551\n",
      "77552\n",
      "77553\n",
      "77554\n",
      "77555\n",
      "77556\n",
      "77557\n",
      "77558\n",
      "77559\n",
      "77560\n",
      "77561\n",
      "77562\n",
      "77563\n",
      "77564\n",
      "77565\n",
      "77566\n",
      "77567\n",
      "77568\n",
      "77569\n",
      "77570\n",
      "77571\n",
      "77572\n",
      "77573\n",
      "77574\n",
      "77575\n",
      "77576\n",
      "77577\n",
      "77578\n",
      "77579\n",
      "77580\n",
      "77581\n",
      "77582\n",
      "77583\n",
      "77584\n",
      "77585\n",
      "77586\n",
      "77587\n",
      "77588\n",
      "77589\n",
      "77590\n",
      "77591\n",
      "77592\n",
      "77593\n",
      "77594\n",
      "77595\n",
      "77596\n",
      "77597\n",
      "77598\n",
      "77599\n",
      "77600\n",
      "77601\n",
      "77602\n",
      "77603\n",
      "77604\n",
      "77605\n",
      "77606\n",
      "77607\n",
      "77608\n",
      "77609\n",
      "77610\n",
      "77611\n",
      "77612\n",
      "77613\n",
      "77614\n",
      "77615\n",
      "77616\n",
      "77617\n",
      "77618\n",
      "77619\n",
      "77620\n",
      "77621\n",
      "77622\n",
      "77623\n",
      "77624\n",
      "77625\n",
      "77626\n",
      "77627\n",
      "77628\n",
      "77629\n",
      "77630\n",
      "77631\n",
      "77632\n",
      "77633\n",
      "77634\n",
      "77635\n",
      "77636\n",
      "77637\n",
      "77638\n",
      "77639\n",
      "77640\n",
      "77641\n",
      "77642\n",
      "77643\n",
      "77644\n",
      "77645\n",
      "77646\n",
      "77647\n",
      "77648\n",
      "77649\n",
      "77650\n",
      "77651\n",
      "77652\n",
      "77653\n",
      "77654\n",
      "77655\n",
      "77656\n",
      "77657\n",
      "77658\n",
      "77659\n",
      "77660\n",
      "77661\n",
      "77662\n",
      "77663\n",
      "77664\n",
      "77665\n",
      "77666\n",
      "77667\n",
      "77668\n",
      "77669\n",
      "77670\n",
      "77671\n",
      "77672\n",
      "77673\n",
      "77674\n",
      "77675\n",
      "77676\n",
      "77677\n",
      "77678\n",
      "77679\n",
      "77680\n",
      "77681\n",
      "77682\n",
      "77683\n",
      "77684\n",
      "77685\n",
      "77686\n",
      "77687\n",
      "77688\n",
      "77689\n",
      "77690\n",
      "77691\n",
      "77692\n",
      "77693\n",
      "77694\n",
      "77695\n",
      "77696\n",
      "77697\n",
      "77698\n",
      "77699\n",
      "77700\n",
      "77701\n",
      "77702\n",
      "77703\n",
      "77704\n",
      "77705\n",
      "77706\n",
      "77707\n",
      "77708\n",
      "77709\n",
      "77710\n",
      "77711\n",
      "77712\n",
      "77713\n",
      "77714\n",
      "77715\n",
      "77716\n",
      "77717\n",
      "77718\n",
      "77719\n",
      "77720\n",
      "77721\n",
      "77722\n",
      "77723\n",
      "77724\n",
      "77725\n",
      "77726\n",
      "77727\n",
      "77728\n",
      "77729\n",
      "77730\n",
      "77731\n",
      "77732\n",
      "77733\n",
      "77734\n",
      "77735\n",
      "77736\n",
      "77737\n",
      "77738\n",
      "77739\n",
      "77740\n",
      "77741\n",
      "77742\n",
      "77743\n",
      "77744\n",
      "77745\n",
      "77746\n",
      "77747\n",
      "77748\n",
      "77749\n",
      "77750\n",
      "77751\n",
      "77752\n",
      "77753\n",
      "77754\n",
      "77755\n",
      "77756\n",
      "77757\n",
      "77758\n",
      "77759\n"
     ]
    }
   ],
   "source": [
    "for i in range(len(real_eigvec_norm)):\n",
    "    if real_eigvec_norm[i] ==0:\n",
    "        print(i)\n",
    "        real_eigvec_norm[i]=10**(-5)"
   ]
  },
  {
   "cell_type": "code",
   "execution_count": 59,
   "metadata": {
    "collapsed": true
   },
   "outputs": [],
   "source": [
    "avgimgg = np.reshape(avgimgg,(243,320))"
   ]
  },
  {
   "cell_type": "code",
   "execution_count": 60,
   "metadata": {
    "collapsed": true
   },
   "outputs": [
    {
     "name": "stdout",
     "output_type": "stream",
     "text": [
      "[[ 121.34285714  121.27619048  121.67619048 ...,  251.85714286\n",
      "   250.38095238  250.6952381 ]\n",
      " [ 245.73333333  244.79047619  244.98095238 ...,  252.82857143\n",
      "   251.41904762  251.54285714]\n",
      " [ 246.9047619   246.71428571  247.11428571 ...,  253.7047619   252.0952381\n",
      "   251.68571429]\n",
      " ..., \n",
      " [ 229.00952381  229.11428571  229.27619048 ...,  214.32380952\n",
      "   210.91428571  212.56190476]\n",
      " [ 229.18095238  228.99047619  228.96190476 ...,  213.33333333\n",
      "   208.21904762  210.8952381 ]\n",
      " [  68.           68.           68.         ...,   68.           68.           68.        ]]\n"
     ]
    }
   ],
   "source": [
    "print(avgimg)\n",
    "#len(avgimg)"
   ]
  },
  {
   "cell_type": "code",
   "execution_count": 62,
   "metadata": {
    "collapsed": false
   },
   "outputs": [
    {
     "name": "stdout",
     "output_type": "stream",
     "text": [
      "[[  82.22857143   82.16190476   82.56190476 ...,  212.74285714\n",
      "   211.26666667  211.58095238]\n",
      " [ 206.61904762  205.67619048  205.86666667 ...,  213.71428571  212.3047619\n",
      "   212.42857143]\n",
      " [ 207.79047619  207.6         208.         ...,  214.59047619\n",
      "   212.98095238  212.57142857]\n",
      " ..., \n",
      " [ 189.8952381   190.          190.16190476 ...,  175.20952381  171.8\n",
      "   173.44761905]\n",
      " [ 190.06666667  189.87619048  189.84761905 ...,  174.21904762  169.1047619\n",
      "   171.78095238]\n",
      " [  28.88571429   28.88571429   28.88571429 ...,   28.88571429\n",
      "    28.88571429   28.88571429]]\n"
     ]
    }
   ],
   "source": [
    "print(test)"
   ]
  },
  {
   "cell_type": "code",
   "execution_count": 67,
   "metadata": {
    "collapsed": true
   },
   "outputs": [],
   "source": [
    "cv2.imshow('image',np.array(avgimg,dtype=np.uint8))\n",
    "cv2.waitKey(0)\n",
    "cv2.destroyAllWindows()"
   ]
  },
  {
   "cell_type": "code",
   "execution_count": 64,
   "metadata": {
    "collapsed": false
   },
   "outputs": [
    {
     "data": {
      "text/plain": [
       "'C:\\\\Users\\\\saich\\\\Desktop'"
      ]
     },
     "execution_count": 64,
     "metadata": {},
     "output_type": "execute_result"
    }
   ],
   "source": [
    "%pwd"
   ]
  },
  {
   "cell_type": "code",
   "execution_count": 137,
   "metadata": {
    "collapsed": false
   },
   "outputs": [
    {
     "name": "stdout",
     "output_type": "stream",
     "text": [
      "[  3.74165739   8.77496439  13.92838828]\n"
     ]
    }
   ],
   "source": [
    "a = [[1,2,3],[4,5,6],[7,8,9]]\n",
    "a = np.array(a)\n",
    "a = linalg.norm(a,axis=1)\n",
    "b = [[1,1,1]]\n",
    "print(a)\n",
    "#c = a[:2,:]\n",
    "#print(c)"
   ]
  },
  {
   "cell_type": "code",
   "execution_count": 96,
   "metadata": {
    "collapsed": false
   },
   "outputs": [
    {
     "name": "stdout",
     "output_type": "stream",
     "text": [
      "[4, 3, 2, 1]\n"
     ]
    }
   ],
   "source": [
    "l = [1,2,3,4]\n",
    "t = l.reverse()\n",
    "print(l)"
   ]
  },
  {
   "cell_type": "code",
   "execution_count": 145,
   "metadata": {
    "collapsed": false
   },
   "outputs": [
    {
     "name": "stdout",
     "output_type": "stream",
     "text": [
      "(77760, 1)\n"
     ]
    }
   ],
   "source": [
    "d = np.reshape(real_eigvec_norm,(77760,1))\n",
    "print(d.shape)"
   ]
  },
  {
   "cell_type": "code",
   "execution_count": 128,
   "metadata": {
    "collapsed": false
   },
   "outputs": [],
   "source": [
    "x = eigvec_rev[:k,:]"
   ]
  }
 ],
 "metadata": {
  "anaconda-cloud": {},
  "kernelspec": {
   "display_name": "Python [conda root]",
   "language": "python",
   "name": "conda-root-py"
  },
  "language_info": {
   "codemirror_mode": {
    "name": "ipython",
    "version": 3
   },
   "file_extension": ".py",
   "mimetype": "text/x-python",
   "name": "python",
   "nbconvert_exporter": "python",
   "pygments_lexer": "ipython3",
   "version": "3.5.2"
  }
 },
 "nbformat": 4,
 "nbformat_minor": 1
}
